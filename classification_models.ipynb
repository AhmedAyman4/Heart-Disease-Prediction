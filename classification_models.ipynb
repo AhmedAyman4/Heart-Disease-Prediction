{
 "cells": [
  {
   "cell_type": "markdown",
   "id": "9f4d0dce",
   "metadata": {},
   "source": [
    "# Supervised Learning - Classification Models\n",
    "\n",
    "In this notebook, we will train and evaluate various classification models using the reduced dataset. The steps include:\n",
    "1. Splitting the dataset into training (80%) and testing (20%) sets.\n",
    "2. Training the following models:\n",
    "   - Logistic Regression\n",
    "   - Decision Tree\n",
    "   - Random Forest\n",
    "   - Support Vector Machine (SVM)\n",
    "3. Evaluating models using:\n",
    "   - Accuracy, Precision, Recall, F1-score\n",
    "   - ROC Curve & AUC Score\n",
    "\n",
    "Deliverables:\n",
    "✔️ Trained models with performance metrics"
   ]
  },
  {
   "cell_type": "code",
   "execution_count": 33,
   "id": "074a49c5",
   "metadata": {},
   "outputs": [
    {
     "name": "stdout",
     "output_type": "stream",
     "text": [
      "Binary target dataset loaded successfully!\n",
      "Features shape: (303, 9)\n",
      "Target shape: (303,)\n"
     ]
    }
   ],
   "source": [
    "# Import required libraries\n",
    "import pandas as pd\n",
    "import numpy as np\n",
    "from sklearn.model_selection import train_test_split\n",
    "from sklearn.linear_model import LogisticRegression\n",
    "from sklearn.tree import DecisionTreeClassifier\n",
    "from sklearn.ensemble import RandomForestClassifier\n",
    "from sklearn.svm import SVC\n",
    "from sklearn.metrics import classification_report, roc_curve, auc, precision_recall_fscore_support\n",
    "import matplotlib.pyplot as plt\n",
    "from sklearn.model_selection import GridSearchCV, RandomizedSearchCV\n",
    "\n",
    "# Load reduced dataset with target\n",
    "data = pd.read_csv(\"heart_disease_reduced_with_binary.csv\")  # Updated to use the binary target dataset\n",
    "\n",
    "# Separate features and target\n",
    "X = data.iloc[:, :-1]  # All columns except the last one\n",
    "y = data.iloc[:, -1]  # The last column\n",
    "\n",
    "print(\"Binary target dataset loaded successfully!\")\n",
    "print(\"Features shape:\", X.shape)\n",
    "print(\"Target shape:\", y.shape)"
   ]
  },
  {
   "cell_type": "code",
   "execution_count": 34,
   "id": "a4c8d497",
   "metadata": {},
   "outputs": [
    {
     "data": {
      "text/html": [
       "<div>\n",
       "<style scoped>\n",
       "    .dataframe tbody tr th:only-of-type {\n",
       "        vertical-align: middle;\n",
       "    }\n",
       "\n",
       "    .dataframe tbody tr th {\n",
       "        vertical-align: top;\n",
       "    }\n",
       "\n",
       "    .dataframe thead th {\n",
       "        text-align: right;\n",
       "    }\n",
       "</style>\n",
       "<table border=\"1\" class=\"dataframe\">\n",
       "  <thead>\n",
       "    <tr style=\"text-align: right;\">\n",
       "      <th></th>\n",
       "      <th>thalach</th>\n",
       "      <th>trestbps</th>\n",
       "      <th>age</th>\n",
       "      <th>ca</th>\n",
       "      <th>thal</th>\n",
       "      <th>exang</th>\n",
       "      <th>oldpeak</th>\n",
       "      <th>slope</th>\n",
       "      <th>chol</th>\n",
       "      <th>num_binary</th>\n",
       "    </tr>\n",
       "  </thead>\n",
       "  <tbody>\n",
       "    <tr>\n",
       "      <th>0</th>\n",
       "      <td>0.017197</td>\n",
       "      <td>0.757525</td>\n",
       "      <td>0.948726</td>\n",
       "      <td>-0.711131</td>\n",
       "      <td>0.176225</td>\n",
       "      <td>-0.696631</td>\n",
       "      <td>1.087338</td>\n",
       "      <td>2.274579</td>\n",
       "      <td>-0.264900</td>\n",
       "      <td>0</td>\n",
       "    </tr>\n",
       "    <tr>\n",
       "      <th>1</th>\n",
       "      <td>-1.821905</td>\n",
       "      <td>1.611220</td>\n",
       "      <td>1.392002</td>\n",
       "      <td>2.504881</td>\n",
       "      <td>-0.870759</td>\n",
       "      <td>1.435481</td>\n",
       "      <td>0.397182</td>\n",
       "      <td>0.649113</td>\n",
       "      <td>0.760415</td>\n",
       "      <td>1</td>\n",
       "    </tr>\n",
       "    <tr>\n",
       "      <th>2</th>\n",
       "      <td>-0.902354</td>\n",
       "      <td>-0.665300</td>\n",
       "      <td>1.392002</td>\n",
       "      <td>1.432877</td>\n",
       "      <td>1.223208</td>\n",
       "      <td>1.435481</td>\n",
       "      <td>1.346147</td>\n",
       "      <td>0.649113</td>\n",
       "      <td>-0.342283</td>\n",
       "      <td>1</td>\n",
       "    </tr>\n",
       "    <tr>\n",
       "      <th>3</th>\n",
       "      <td>1.637359</td>\n",
       "      <td>-0.096170</td>\n",
       "      <td>-1.932564</td>\n",
       "      <td>-0.711131</td>\n",
       "      <td>-0.870759</td>\n",
       "      <td>-0.696631</td>\n",
       "      <td>2.122573</td>\n",
       "      <td>2.274579</td>\n",
       "      <td>0.063974</td>\n",
       "      <td>0</td>\n",
       "    </tr>\n",
       "    <tr>\n",
       "      <th>4</th>\n",
       "      <td>0.980537</td>\n",
       "      <td>-0.096170</td>\n",
       "      <td>-1.489288</td>\n",
       "      <td>-0.711131</td>\n",
       "      <td>-0.870759</td>\n",
       "      <td>-0.696631</td>\n",
       "      <td>0.310912</td>\n",
       "      <td>-0.976352</td>\n",
       "      <td>-0.825922</td>\n",
       "      <td>0</td>\n",
       "    </tr>\n",
       "  </tbody>\n",
       "</table>\n",
       "</div>"
      ],
      "text/plain": [
       "    thalach  trestbps       age        ca      thal     exang   oldpeak  \\\n",
       "0  0.017197  0.757525  0.948726 -0.711131  0.176225 -0.696631  1.087338   \n",
       "1 -1.821905  1.611220  1.392002  2.504881 -0.870759  1.435481  0.397182   \n",
       "2 -0.902354 -0.665300  1.392002  1.432877  1.223208  1.435481  1.346147   \n",
       "3  1.637359 -0.096170 -1.932564 -0.711131 -0.870759 -0.696631  2.122573   \n",
       "4  0.980537 -0.096170 -1.489288 -0.711131 -0.870759 -0.696631  0.310912   \n",
       "\n",
       "      slope      chol  num_binary  \n",
       "0  2.274579 -0.264900           0  \n",
       "1  0.649113  0.760415           1  \n",
       "2  0.649113 -0.342283           1  \n",
       "3  2.274579  0.063974           0  \n",
       "4 -0.976352 -0.825922           0  "
      ]
     },
     "execution_count": 34,
     "metadata": {},
     "output_type": "execute_result"
    }
   ],
   "source": [
    "data.head()  # Display the first few rows of the dataset"
   ]
  },
  {
   "cell_type": "code",
   "execution_count": 35,
   "id": "ee8962ef",
   "metadata": {},
   "outputs": [
    {
     "name": "stdout",
     "output_type": "stream",
     "text": [
      "Dataset split into training and testing sets successfully!\n",
      "Training set shape: (242, 9)\n",
      "Testing set shape: (61, 9)\n"
     ]
    }
   ],
   "source": [
    "# Split the dataset into training and testing sets\n",
    "X_train, X_test, y_train, y_test = train_test_split(X, y, test_size=0.2, random_state=42)\n",
    "\n",
    "print(\"Dataset split into training and testing sets successfully!\")\n",
    "print(\"Training set shape:\", X_train.shape)\n",
    "print(\"Testing set shape:\", X_test.shape)"
   ]
  },
  {
   "cell_type": "code",
   "execution_count": 36,
   "id": "1f4278d3",
   "metadata": {},
   "outputs": [
    {
     "name": "stdout",
     "output_type": "stream",
     "text": [
      "Training Logistic Regression...\n",
      "Logistic Regression trained successfully!\n"
     ]
    }
   ],
   "source": [
    "# Train Logistic Regression\n",
    "print(\"Training Logistic Regression...\")\n",
    "log_reg = LogisticRegression(random_state=42)\n",
    "log_reg.fit(X_train, y_train)\n",
    "log_reg_pred = log_reg.predict(X_test)\n",
    "log_reg_prob = log_reg.predict_proba(X_test)[:, 1]\n",
    "\n",
    "print(\"Logistic Regression trained successfully!\")"
   ]
  },
  {
   "cell_type": "code",
   "execution_count": 37,
   "id": "c37f12c2",
   "metadata": {},
   "outputs": [
    {
     "name": "stdout",
     "output_type": "stream",
     "text": [
      "Training Decision Tree...\n",
      "Decision Tree trained successfully!\n"
     ]
    }
   ],
   "source": [
    "# Train Decision Tree\n",
    "print(\"Training Decision Tree...\")\n",
    "dec_tree = DecisionTreeClassifier(random_state=42)\n",
    "dec_tree.fit(X_train, y_train)\n",
    "dec_tree_pred = dec_tree.predict(X_test)\n",
    "dec_tree_prob = dec_tree.predict_proba(X_test)[:, 1]\n",
    "\n",
    "print(\"Decision Tree trained successfully!\")"
   ]
  },
  {
   "cell_type": "code",
   "execution_count": 38,
   "id": "8cae6c37",
   "metadata": {},
   "outputs": [
    {
     "name": "stdout",
     "output_type": "stream",
     "text": [
      "Training Random Forest...\n"
     ]
    },
    {
     "name": "stdout",
     "output_type": "stream",
     "text": [
      "Random Forest trained successfully!\n"
     ]
    }
   ],
   "source": [
    "# Train Random Forest\n",
    "print(\"Training Random Forest...\")\n",
    "rand_forest = RandomForestClassifier(random_state=42)\n",
    "rand_forest.fit(X_train, y_train)\n",
    "rand_forest_pred = rand_forest.predict(X_test)\n",
    "rand_forest_prob = rand_forest.predict_proba(X_test)[:, 1]\n",
    "\n",
    "print(\"Random Forest trained successfully!\")"
   ]
  },
  {
   "cell_type": "code",
   "execution_count": 39,
   "id": "ee2fbd86",
   "metadata": {},
   "outputs": [
    {
     "name": "stdout",
     "output_type": "stream",
     "text": [
      "Training Support Vector Machine (SVM)...\n",
      "Support Vector Machine (SVM) trained successfully!\n"
     ]
    }
   ],
   "source": [
    "# Train Support Vector Machine (SVM)\n",
    "print(\"Training Support Vector Machine (SVM)...\")\n",
    "svm = SVC(probability=True, random_state=42)\n",
    "svm.fit(X_train, y_train)\n",
    "svm_pred = svm.predict(X_test)\n",
    "svm_prob = svm.predict_proba(X_test)[:, 1]\n",
    "\n",
    "print(\"Support Vector Machine (SVM) trained successfully!\")"
   ]
  },
  {
   "cell_type": "code",
   "execution_count": 40,
   "id": "15a2004e",
   "metadata": {},
   "outputs": [
    {
     "name": "stdout",
     "output_type": "stream",
     "text": [
      "Evaluating models...\n",
      "\n",
      "Logistic Regression:\n",
      "              precision    recall  f1-score   support\n",
      "\n",
      "           0       0.81      0.86      0.83        29\n",
      "           1       0.87      0.81      0.84        32\n",
      "\n",
      "    accuracy                           0.84        61\n",
      "   macro avg       0.84      0.84      0.84        61\n",
      "weighted avg       0.84      0.84      0.84        61\n",
      "\n",
      "\n",
      "Decision Tree:\n",
      "              precision    recall  f1-score   support\n",
      "\n",
      "           0       0.79      0.90      0.84        29\n",
      "           1       0.89      0.78      0.83        32\n",
      "\n",
      "    accuracy                           0.84        61\n",
      "   macro avg       0.84      0.84      0.84        61\n",
      "weighted avg       0.84      0.84      0.84        61\n",
      "\n",
      "\n",
      "Random Forest:\n",
      "              precision    recall  f1-score   support\n",
      "\n",
      "           0       0.82      0.93      0.87        29\n",
      "           1       0.93      0.81      0.87        32\n",
      "\n",
      "    accuracy                           0.87        61\n",
      "   macro avg       0.87      0.87      0.87        61\n",
      "weighted avg       0.88      0.87      0.87        61\n",
      "\n",
      "\n",
      "SVM:\n",
      "              precision    recall  f1-score   support\n",
      "\n",
      "           0       0.76      0.97      0.85        29\n",
      "           1       0.96      0.72      0.82        32\n",
      "\n",
      "    accuracy                           0.84        61\n",
      "   macro avg       0.86      0.84      0.83        61\n",
      "weighted avg       0.86      0.84      0.83        61\n",
      "\n"
     ]
    },
    {
     "data": {
      "image/png": "[encoded data removed]",
      "text/plain": [
       "<Figure size 640x480 with 1 Axes>"
      ]
     },
     "metadata": {},
     "output_type": "display_data"
    },
    {
     "name": "stdout",
     "output_type": "stream",
     "text": [
      "Model evaluation completed successfully!\n"
     ]
    }
   ],
   "source": [
    "# Evaluate models\n",
    "models = {\n",
    "    \"Logistic Regression\": (log_reg_pred, log_reg_prob),\n",
    "    \"Decision Tree\": (dec_tree_pred, dec_tree_prob),\n",
    "    \"Random Forest\": (rand_forest_pred, rand_forest_prob),\n",
    "    \"SVM\": (svm_pred, svm_prob)\n",
    "}\n",
    "\n",
    "print(\"Evaluating models...\")\n",
    "for model_name, (pred, prob) in models.items():\n",
    "    print(f\"\\n{model_name}:\")\n",
    "    print(classification_report(y_test, pred))\n",
    "\n",
    "    # ROC Curve\n",
    "    fpr, tpr, _ = roc_curve(y_test, prob)\n",
    "    roc_auc = auc(fpr, tpr)\n",
    "    plt.plot(fpr, tpr, label=f'{model_name} (AUC = {roc_auc:.2f})')\n",
    "\n",
    "# Plot ROC Curve\n",
    "plt.title('ROC Curve')\n",
    "plt.xlabel('False Positive Rate')\n",
    "plt.ylabel('True Positive Rate')\n",
    "plt.legend(loc='lower right')\n",
    "plt.grid(True)\n",
    "plt.show()\n",
    "\n",
    "print(\"Model evaluation completed successfully!\")"
   ]
  },
  {
   "cell_type": "code",
   "execution_count": 41,
   "id": "b529a2b4",
   "metadata": {},
   "outputs": [
    {
     "name": "stdout",
     "output_type": "stream",
     "text": [
      "Optimizing Random Forest using GridSearchCV...\n",
      "Best parameters for Random Forest: {'max_depth': None, 'min_samples_leaf': 4, 'min_samples_split': 10, 'n_estimators': 100}\n",
      "Best score for Random Forest: 0.7852366255144032\n",
      "Optimizing SVM using RandomizedSearchCV...\n",
      "Best parameters for Random Forest: {'max_depth': None, 'min_samples_leaf': 4, 'min_samples_split': 10, 'n_estimators': 100}\n",
      "Best score for Random Forest: 0.7852366255144032\n",
      "Optimizing SVM using RandomizedSearchCV...\n",
      "Best parameters for SVM: {'kernel': 'linear', 'gamma': 'scale', 'C': 1}\n",
      "Best score for SVM: 0.8140432098765432\n",
      "Comparing optimized models with baseline performance...\n",
      "\n",
      "Optimized Random Forest:\n",
      "              precision    recall  f1-score   support\n",
      "\n",
      "           0       0.82      0.97      0.89        29\n",
      "           1       0.96      0.81      0.88        32\n",
      "\n",
      "    accuracy                           0.89        61\n",
      "   macro avg       0.89      0.89      0.89        61\n",
      "weighted avg       0.90      0.89      0.88        61\n",
      "\n",
      "\n",
      "Optimized SVM:\n",
      "              precision    recall  f1-score   support\n",
      "\n",
      "           0       0.81      0.90      0.85        29\n",
      "           1       0.90      0.81      0.85        32\n",
      "\n",
      "    accuracy                           0.85        61\n",
      "   macro avg       0.85      0.85      0.85        61\n",
      "weighted avg       0.86      0.85      0.85        61\n",
      "\n",
      "Best parameters for SVM: {'kernel': 'linear', 'gamma': 'scale', 'C': 1}\n",
      "Best score for SVM: 0.8140432098765432\n",
      "Comparing optimized models with baseline performance...\n",
      "\n",
      "Optimized Random Forest:\n",
      "              precision    recall  f1-score   support\n",
      "\n",
      "           0       0.82      0.97      0.89        29\n",
      "           1       0.96      0.81      0.88        32\n",
      "\n",
      "    accuracy                           0.89        61\n",
      "   macro avg       0.89      0.89      0.89        61\n",
      "weighted avg       0.90      0.89      0.88        61\n",
      "\n",
      "\n",
      "Optimized SVM:\n",
      "              precision    recall  f1-score   support\n",
      "\n",
      "           0       0.81      0.90      0.85        29\n",
      "           1       0.90      0.81      0.85        32\n",
      "\n",
      "    accuracy                           0.85        61\n",
      "   macro avg       0.85      0.85      0.85        61\n",
      "weighted avg       0.86      0.85      0.85        61\n",
      "\n"
     ]
    },
    {
     "data": {
      "image/png": "[encoded data removed]",
      "text/plain": [
       "<Figure size 640x480 with 1 Axes>"
      ]
     },
     "metadata": {},
     "output_type": "display_data"
    },
    {
     "name": "stdout",
     "output_type": "stream",
     "text": [
      "Hyperparameter tuning and comparison completed successfully!\n"
     ]
    }
   ],
   "source": [
    "# Hyperparameter Tuning\n",
    "\n",
    "# Define parameter grids for each model\n",
    "param_grid_rf = {\n",
    "    'n_estimators': [50, 100, 200],\n",
    "    'max_depth': [None, 10, 20, 30],\n",
    "    'min_samples_split': [2, 5, 10],\n",
    "    'min_samples_leaf': [1, 2, 4]\n",
    "}\n",
    "\n",
    "param_grid_svm = {\n",
    "    'C': [0.1, 1, 10],\n",
    "    'kernel': ['linear', 'rbf'],\n",
    "    'gamma': ['scale', 'auto']\n",
    "}\n",
    "\n",
    "# Random Forest - GridSearchCV\n",
    "print(\"Optimizing Random Forest using GridSearchCV...\")\n",
    "grid_search_rf = GridSearchCV(estimator=RandomForestClassifier(random_state=42), param_grid=param_grid_rf, cv=3, scoring='accuracy')\n",
    "grid_search_rf.fit(X_train, y_train)\n",
    "print(\"Best parameters for Random Forest:\", grid_search_rf.best_params_)\n",
    "print(\"Best score for Random Forest:\", grid_search_rf.best_score_)\n",
    "\n",
    "# SVM - RandomizedSearchCV\n",
    "print(\"Optimizing SVM using RandomizedSearchCV...\")\n",
    "random_search_svm = RandomizedSearchCV(estimator=SVC(probability=True, random_state=42), param_distributions=param_grid_svm, n_iter=10, cv=3, scoring='accuracy', random_state=42)\n",
    "random_search_svm.fit(X_train, y_train)\n",
    "print(\"Best parameters for SVM:\", random_search_svm.best_params_)\n",
    "print(\"Best score for SVM:\", random_search_svm.best_score_)\n",
    "\n",
    "# Compare optimized models with baseline performance\n",
    "print(\"Comparing optimized models with baseline performance...\")\n",
    "optimized_rf = grid_search_rf.best_estimator_\n",
    "optimized_rf_pred = optimized_rf.predict(X_test)\n",
    "optimized_rf_prob = optimized_rf.predict_proba(X_test)[:, 1]\n",
    "\n",
    "optimized_svm = random_search_svm.best_estimator_\n",
    "optimized_svm_pred = optimized_svm.predict(X_test)\n",
    "optimized_svm_prob = optimized_svm.predict_proba(X_test)[:, 1]\n",
    "\n",
    "# Evaluate optimized models\n",
    "models_optimized = {\n",
    "    \"Optimized Random Forest\": (optimized_rf_pred, optimized_rf_prob),\n",
    "    \"Optimized SVM\": (optimized_svm_pred, optimized_svm_prob)\n",
    "}\n",
    "\n",
    "for model_name, (pred, prob) in models_optimized.items():\n",
    "    print(f\"\\n{model_name}:\")\n",
    "    print(classification_report(y_test, pred))\n",
    "\n",
    "    # ROC Curve\n",
    "    fpr, tpr, _ = roc_curve(y_test, prob)\n",
    "    roc_auc = auc(fpr, tpr)\n",
    "    plt.plot(fpr, tpr, label=f'{model_name} (AUC = {roc_auc:.2f})')\n",
    "\n",
    "# Plot ROC Curve for optimized models\n",
    "plt.title('ROC Curve - Optimized Models')\n",
    "plt.xlabel('False Positive Rate')\n",
    "plt.ylabel('True Positive Rate')\n",
    "plt.legend(loc='lower right')\n",
    "plt.grid(True)\n",
    "plt.show()\n",
    "\n",
    "print(\"Hyperparameter tuning and comparison completed successfully!\")"
   ]
  },
  {
   "cell_type": "code",
   "execution_count": 43,
   "id": "d8db607a",
   "metadata": {},
   "outputs": [
    {
     "name": "stdout",
     "output_type": "stream",
     "text": [
      "Feature names saved successfully!\n"
     ]
    }
   ],
   "source": [
    "# Save the feature names used during model training\n",
    "trained_feature_names = X_train.columns.tolist()\n",
    "with open('trained_feature_names.txt', 'w') as f:\n",
    "    f.write(\"\\n\".join(trained_feature_names))\n",
    "\n",
    "print(\"Feature names saved successfully!\")"
   ]
  },
  {
   "cell_type": "code",
   "execution_count": 42,
   "id": "c0cf6e2a",
   "metadata": {
    "vscode": {
     "languageId": "markdown"
    }
   },
   "outputs": [
    {
     "data": {
      "text/plain": [
       "['optimized_random_forest_model.pkl']"
      ]
     },
     "execution_count": 42,
     "metadata": {},
     "output_type": "execute_result"
    }
   ],
   "source": [
    "import joblib\n",
    "\n",
    "# Save the best trained finetuned model (optimized_rf) to a .pkl file\n",
    "joblib.dump(optimized_rf, 'optimized_random_forest_model.pkl')\n",
    "\n",
    "# If you want to save the optimized SVM instead, use:\n",
    "# joblib.dump(optimized_svm, 'optimized_svm_model.pkl')"
   ]
  }
 ],
 "metadata": {
  "kernelspec": {
   "display_name": "venv",
   "language": "python",
   "name": "python3"
  },
  "language_info": {
   "codemirror_mode": {
    "name": "ipython",
    "version": 3
   },
   "file_extension": ".py",
   "mimetype": "text/x-python",
   "name": "python",
   "nbconvert_exporter": "python",
   "pygments_lexer": "ipython3",
   "version": "3.11.5"
  }
 },
 "nbformat": 4,
 "nbformat_minor": 5
}
